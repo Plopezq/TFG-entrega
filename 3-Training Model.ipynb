{
 "cells": [
  {
   "cell_type": "code",
   "execution_count": 1,
   "id": "9a0973ff-4983-47df-b8b2-7198b67431cc",
   "metadata": {},
   "outputs": [],
   "source": [
    "import pandas as pd\n",
    "df = pd.read_pickle('df_spain.pkl')"
   ]
  },
  {
   "cell_type": "code",
   "execution_count": 2,
   "id": "9e80c789-94fe-4bf3-9479-10c79856987d",
   "metadata": {},
   "outputs": [
    {
     "data": {
      "text/html": [
       "<div>\n",
       "<style scoped>\n",
       "    .dataframe tbody tr th:only-of-type {\n",
       "        vertical-align: middle;\n",
       "    }\n",
       "\n",
       "    .dataframe tbody tr th {\n",
       "        vertical-align: top;\n",
       "    }\n",
       "\n",
       "    .dataframe thead th {\n",
       "        text-align: right;\n",
       "    }\n",
       "</style>\n",
       "<table border=\"1\" class=\"dataframe\">\n",
       "  <thead>\n",
       "    <tr style=\"text-align: right;\">\n",
       "      <th></th>\n",
       "      <th>Comunidades y Ciudades Autónomas</th>\n",
       "      <th>Provincias</th>\n",
       "      <th>Periodo</th>\n",
       "      <th>NumCompraVentas</th>\n",
       "      <th>TotalPoblación</th>\n",
       "      <th>PrecioVivienda</th>\n",
       "    </tr>\n",
       "  </thead>\n",
       "  <tbody>\n",
       "    <tr>\n",
       "      <th>31</th>\n",
       "      <td>01 Andalucía</td>\n",
       "      <td>04 Almería</td>\n",
       "      <td>2022M01</td>\n",
       "      <td>1220.0</td>\n",
       "      <td>723899.0</td>\n",
       "      <td>11.800358</td>\n",
       "    </tr>\n",
       "    <tr>\n",
       "      <th>32</th>\n",
       "      <td>01 Andalucía</td>\n",
       "      <td>11 Cádiz</td>\n",
       "      <td>2022M01</td>\n",
       "      <td>1417.0</td>\n",
       "      <td>1259339.0</td>\n",
       "      <td>11.800358</td>\n",
       "    </tr>\n",
       "    <tr>\n",
       "      <th>33</th>\n",
       "      <td>01 Andalucía</td>\n",
       "      <td>14 Córdoba</td>\n",
       "      <td>2022M01</td>\n",
       "      <td>675.0</td>\n",
       "      <td>777414.0</td>\n",
       "      <td>11.800358</td>\n",
       "    </tr>\n",
       "    <tr>\n",
       "      <th>34</th>\n",
       "      <td>01 Andalucía</td>\n",
       "      <td>18 Granada</td>\n",
       "      <td>2022M01</td>\n",
       "      <td>1204.0</td>\n",
       "      <td>929968.0</td>\n",
       "      <td>11.800358</td>\n",
       "    </tr>\n",
       "    <tr>\n",
       "      <th>35</th>\n",
       "      <td>01 Andalucía</td>\n",
       "      <td>21 Huelva</td>\n",
       "      <td>2022M01</td>\n",
       "      <td>688.0</td>\n",
       "      <td>532865.0</td>\n",
       "      <td>11.800358</td>\n",
       "    </tr>\n",
       "    <tr>\n",
       "      <th>...</th>\n",
       "      <td>...</td>\n",
       "      <td>...</td>\n",
       "      <td>...</td>\n",
       "      <td>...</td>\n",
       "      <td>...</td>\n",
       "      <td>...</td>\n",
       "    </tr>\n",
       "    <tr>\n",
       "      <th>1638</th>\n",
       "      <td>19 Melilla</td>\n",
       "      <td>52 Melilla</td>\n",
       "      <td>2009M01</td>\n",
       "      <td>33.0</td>\n",
       "      <td>73361.0</td>\n",
       "      <td>11.816417</td>\n",
       "    </tr>\n",
       "    <tr>\n",
       "      <th>1639</th>\n",
       "      <td>19 Melilla</td>\n",
       "      <td>52 Melilla</td>\n",
       "      <td>2008M07</td>\n",
       "      <td>71.0</td>\n",
       "      <td>72213.0</td>\n",
       "      <td>11.801842</td>\n",
       "    </tr>\n",
       "    <tr>\n",
       "      <th>1640</th>\n",
       "      <td>19 Melilla</td>\n",
       "      <td>52 Melilla</td>\n",
       "      <td>2008M01</td>\n",
       "      <td>79.0</td>\n",
       "      <td>71244.0</td>\n",
       "      <td>11.818585</td>\n",
       "    </tr>\n",
       "    <tr>\n",
       "      <th>1641</th>\n",
       "      <td>19 Melilla</td>\n",
       "      <td>52 Melilla</td>\n",
       "      <td>2007M07</td>\n",
       "      <td>83.0</td>\n",
       "      <td>70080.0</td>\n",
       "      <td>11.792366</td>\n",
       "    </tr>\n",
       "    <tr>\n",
       "      <th>1642</th>\n",
       "      <td>19 Melilla</td>\n",
       "      <td>52 Melilla</td>\n",
       "      <td>2007M01</td>\n",
       "      <td>179.0</td>\n",
       "      <td>68968.0</td>\n",
       "      <td>11.735085</td>\n",
       "    </tr>\n",
       "  </tbody>\n",
       "</table>\n",
       "<p>1612 rows × 6 columns</p>\n",
       "</div>"
      ],
      "text/plain": [
       "     Comunidades y Ciudades Autónomas  Provincias  Periodo  NumCompraVentas  \\\n",
       "31                       01 Andalucía  04 Almería  2022M01           1220.0   \n",
       "32                       01 Andalucía    11 Cádiz  2022M01           1417.0   \n",
       "33                       01 Andalucía  14 Córdoba  2022M01            675.0   \n",
       "34                       01 Andalucía  18 Granada  2022M01           1204.0   \n",
       "35                       01 Andalucía   21 Huelva  2022M01            688.0   \n",
       "...                               ...         ...      ...              ...   \n",
       "1638                       19 Melilla  52 Melilla  2009M01             33.0   \n",
       "1639                       19 Melilla  52 Melilla  2008M07             71.0   \n",
       "1640                       19 Melilla  52 Melilla  2008M01             79.0   \n",
       "1641                       19 Melilla  52 Melilla  2007M07             83.0   \n",
       "1642                       19 Melilla  52 Melilla  2007M01            179.0   \n",
       "\n",
       "      TotalPoblación  PrecioVivienda  \n",
       "31          723899.0       11.800358  \n",
       "32         1259339.0       11.800358  \n",
       "33          777414.0       11.800358  \n",
       "34          929968.0       11.800358  \n",
       "35          532865.0       11.800358  \n",
       "...              ...             ...  \n",
       "1638         73361.0       11.816417  \n",
       "1639         72213.0       11.801842  \n",
       "1640         71244.0       11.818585  \n",
       "1641         70080.0       11.792366  \n",
       "1642         68968.0       11.735085  \n",
       "\n",
       "[1612 rows x 6 columns]"
      ]
     },
     "execution_count": 2,
     "metadata": {},
     "output_type": "execute_result"
    }
   ],
   "source": [
    "df"
   ]
  },
  {
   "cell_type": "markdown",
   "id": "4a67b908-486c-42b8-bac4-e62385925903",
   "metadata": {},
   "source": [
    "### Pre-processing Pipeline\n",
    "##### En esta sección, llevamos a cabo los pasos de preprocesamiento de datos para preparar los conjuntos de datos para la implementación del algoritmo de aprendizaje automático.\n",
    "### Encoding\n",
    "##### Los algoritmos de aprendizaje automático normalmente sólo pueden tener valores numéricos como variables de predicción. Por lo tanto, la codificación de etiquetas es necesaria, ya que codifican las etiquetas categóricas con valores numéricos. Para evitar la introducción de la importancia de las características categóricas con un gran número de valores únicos, utilizaremos tanto la codificación de etiquetas como la codificación de un solo valor, como se muestra a continuación.\n",
    "\n",
    "\n"
   ]
  },
  {
   "cell_type": "code",
   "execution_count": 6,
   "id": "e9069762-d24e-4927-8c9b-8f77c968017f",
   "metadata": {},
   "outputs": [],
   "source": [
    "from sklearn.preprocessing import LabelEncoder, OneHotEncoder\n",
    "# Create a label encoder object\n",
    "le = LabelEncoder()"
   ]
  },
  {
   "cell_type": "code",
   "execution_count": 7,
   "id": "0cdfd852-3e68-403d-897c-921b5586e096",
   "metadata": {},
   "outputs": [
    {
     "name": "stdout",
     "output_type": "stream",
     "text": [
      "Comunidades y Ciudades Autónomas     object\n",
      "Provincias                           object\n",
      "Periodo                              object\n",
      "NumCompraVentas                     float64\n",
      "TotalPoblación                      float64\n",
      "PrecioVivienda                      float64\n",
      "dtype: object\n",
      "(1612, 6)\n"
     ]
    },
    {
     "data": {
      "text/html": [
       "<div>\n",
       "<style scoped>\n",
       "    .dataframe tbody tr th:only-of-type {\n",
       "        vertical-align: middle;\n",
       "    }\n",
       "\n",
       "    .dataframe tbody tr th {\n",
       "        vertical-align: top;\n",
       "    }\n",
       "\n",
       "    .dataframe thead th {\n",
       "        text-align: right;\n",
       "    }\n",
       "</style>\n",
       "<table border=\"1\" class=\"dataframe\">\n",
       "  <thead>\n",
       "    <tr style=\"text-align: right;\">\n",
       "      <th></th>\n",
       "      <th>Comunidades y Ciudades Autónomas</th>\n",
       "      <th>Provincias</th>\n",
       "      <th>Periodo</th>\n",
       "      <th>NumCompraVentas</th>\n",
       "      <th>TotalPoblación</th>\n",
       "      <th>PrecioVivienda</th>\n",
       "    </tr>\n",
       "  </thead>\n",
       "  <tbody>\n",
       "    <tr>\n",
       "      <th>31</th>\n",
       "      <td>01 Andalucía</td>\n",
       "      <td>04 Almería</td>\n",
       "      <td>2022M01</td>\n",
       "      <td>1220.0</td>\n",
       "      <td>723899.0</td>\n",
       "      <td>11.800358</td>\n",
       "    </tr>\n",
       "    <tr>\n",
       "      <th>32</th>\n",
       "      <td>01 Andalucía</td>\n",
       "      <td>11 Cádiz</td>\n",
       "      <td>2022M01</td>\n",
       "      <td>1417.0</td>\n",
       "      <td>1259339.0</td>\n",
       "      <td>11.800358</td>\n",
       "    </tr>\n",
       "    <tr>\n",
       "      <th>33</th>\n",
       "      <td>01 Andalucía</td>\n",
       "      <td>14 Córdoba</td>\n",
       "      <td>2022M01</td>\n",
       "      <td>675.0</td>\n",
       "      <td>777414.0</td>\n",
       "      <td>11.800358</td>\n",
       "    </tr>\n",
       "    <tr>\n",
       "      <th>34</th>\n",
       "      <td>01 Andalucía</td>\n",
       "      <td>18 Granada</td>\n",
       "      <td>2022M01</td>\n",
       "      <td>1204.0</td>\n",
       "      <td>929968.0</td>\n",
       "      <td>11.800358</td>\n",
       "    </tr>\n",
       "    <tr>\n",
       "      <th>35</th>\n",
       "      <td>01 Andalucía</td>\n",
       "      <td>21 Huelva</td>\n",
       "      <td>2022M01</td>\n",
       "      <td>688.0</td>\n",
       "      <td>532865.0</td>\n",
       "      <td>11.800358</td>\n",
       "    </tr>\n",
       "  </tbody>\n",
       "</table>\n",
       "</div>"
      ],
      "text/plain": [
       "   Comunidades y Ciudades Autónomas  Provincias  Periodo  NumCompraVentas  \\\n",
       "31                     01 Andalucía  04 Almería  2022M01           1220.0   \n",
       "32                     01 Andalucía    11 Cádiz  2022M01           1417.0   \n",
       "33                     01 Andalucía  14 Córdoba  2022M01            675.0   \n",
       "34                     01 Andalucía  18 Granada  2022M01           1204.0   \n",
       "35                     01 Andalucía   21 Huelva  2022M01            688.0   \n",
       "\n",
       "    TotalPoblación  PrecioVivienda  \n",
       "31        723899.0       11.800358  \n",
       "32       1259339.0       11.800358  \n",
       "33        777414.0       11.800358  \n",
       "34        929968.0       11.800358  \n",
       "35        532865.0       11.800358  "
      ]
     },
     "execution_count": 7,
     "metadata": {},
     "output_type": "execute_result"
    }
   ],
   "source": [
    "print(df.dtypes)\n",
    "print(df.shape)\n",
    "df.head()"
   ]
  },
  {
   "cell_type": "code",
   "execution_count": 8,
   "id": "c7f4eaf6-320b-4274-ab79-4090a1ebf8cd",
   "metadata": {},
   "outputs": [
    {
     "name": "stdout",
     "output_type": "stream",
     "text": [
      "0 columns were label encoded.\n"
     ]
    }
   ],
   "source": [
    "# La codificación de etiquetas se utilizará para las columnas con 5 o menos valores únicos\n",
    "le_count = 0\n",
    "for col in df.columns[1:]:\n",
    "    if df[col].dtype == 'object':\n",
    "        if len(list(df[col].unique())) <= 10:\n",
    "            le.fit(df[col])\n",
    "            df[col] = le.transform(df[col])\n",
    "            le_count += 1\n",
    "print('{} columns were label encoded.'.format(le_count))"
   ]
  },
  {
   "cell_type": "code",
   "execution_count": 9,
   "id": "158badab-c882-4f43-88b5-869e3bb35e9c",
   "metadata": {},
   "outputs": [],
   "source": [
    "# convertir el resto de la variable categórica en dummy\n",
    "df = pd.get_dummies(df, drop_first=True)"
   ]
  },
  {
   "cell_type": "code",
   "execution_count": 10,
   "id": "6c4701f1-6dcf-4ed0-9348-3277d6566923",
   "metadata": {},
   "outputs": [
    {
     "name": "stdout",
     "output_type": "stream",
     "text": [
      "NumCompraVentas                                                float64\n",
      "TotalPoblación                                                 float64\n",
      "PrecioVivienda                                                 float64\n",
      "Comunidades y Ciudades Autónomas_02 Aragón                       uint8\n",
      "Comunidades y Ciudades Autónomas_03 Asturias, Principado de      uint8\n",
      "                                                                ...   \n",
      "Periodo_2020M01                                                  uint8\n",
      "Periodo_2020M07                                                  uint8\n",
      "Periodo_2021M01                                                  uint8\n",
      "Periodo_2021M07                                                  uint8\n",
      "Periodo_2022M01                                                  uint8\n",
      "Length: 102, dtype: object\n",
      "(1612, 102)\n"
     ]
    },
    {
     "data": {
      "text/html": [
       "<div>\n",
       "<style scoped>\n",
       "    .dataframe tbody tr th:only-of-type {\n",
       "        vertical-align: middle;\n",
       "    }\n",
       "\n",
       "    .dataframe tbody tr th {\n",
       "        vertical-align: top;\n",
       "    }\n",
       "\n",
       "    .dataframe thead th {\n",
       "        text-align: right;\n",
       "    }\n",
       "</style>\n",
       "<table border=\"1\" class=\"dataframe\">\n",
       "  <thead>\n",
       "    <tr style=\"text-align: right;\">\n",
       "      <th></th>\n",
       "      <th>NumCompraVentas</th>\n",
       "      <th>TotalPoblación</th>\n",
       "      <th>PrecioVivienda</th>\n",
       "      <th>Comunidades y Ciudades Autónomas_02 Aragón</th>\n",
       "      <th>Comunidades y Ciudades Autónomas_03 Asturias, Principado de</th>\n",
       "      <th>Comunidades y Ciudades Autónomas_04 Balears, Illes</th>\n",
       "      <th>Comunidades y Ciudades Autónomas_05 Canarias</th>\n",
       "      <th>Comunidades y Ciudades Autónomas_06 Cantabria</th>\n",
       "      <th>Comunidades y Ciudades Autónomas_07 Castilla y León</th>\n",
       "      <th>Comunidades y Ciudades Autónomas_08 Castilla - La Mancha</th>\n",
       "      <th>...</th>\n",
       "      <th>Periodo_2017M07</th>\n",
       "      <th>Periodo_2018M01</th>\n",
       "      <th>Periodo_2018M07</th>\n",
       "      <th>Periodo_2019M01</th>\n",
       "      <th>Periodo_2019M07</th>\n",
       "      <th>Periodo_2020M01</th>\n",
       "      <th>Periodo_2020M07</th>\n",
       "      <th>Periodo_2021M01</th>\n",
       "      <th>Periodo_2021M07</th>\n",
       "      <th>Periodo_2022M01</th>\n",
       "    </tr>\n",
       "  </thead>\n",
       "  <tbody>\n",
       "    <tr>\n",
       "      <th>31</th>\n",
       "      <td>1220.0</td>\n",
       "      <td>723899.0</td>\n",
       "      <td>11.800358</td>\n",
       "      <td>0</td>\n",
       "      <td>0</td>\n",
       "      <td>0</td>\n",
       "      <td>0</td>\n",
       "      <td>0</td>\n",
       "      <td>0</td>\n",
       "      <td>0</td>\n",
       "      <td>...</td>\n",
       "      <td>0</td>\n",
       "      <td>0</td>\n",
       "      <td>0</td>\n",
       "      <td>0</td>\n",
       "      <td>0</td>\n",
       "      <td>0</td>\n",
       "      <td>0</td>\n",
       "      <td>0</td>\n",
       "      <td>0</td>\n",
       "      <td>1</td>\n",
       "    </tr>\n",
       "    <tr>\n",
       "      <th>32</th>\n",
       "      <td>1417.0</td>\n",
       "      <td>1259339.0</td>\n",
       "      <td>11.800358</td>\n",
       "      <td>0</td>\n",
       "      <td>0</td>\n",
       "      <td>0</td>\n",
       "      <td>0</td>\n",
       "      <td>0</td>\n",
       "      <td>0</td>\n",
       "      <td>0</td>\n",
       "      <td>...</td>\n",
       "      <td>0</td>\n",
       "      <td>0</td>\n",
       "      <td>0</td>\n",
       "      <td>0</td>\n",
       "      <td>0</td>\n",
       "      <td>0</td>\n",
       "      <td>0</td>\n",
       "      <td>0</td>\n",
       "      <td>0</td>\n",
       "      <td>1</td>\n",
       "    </tr>\n",
       "    <tr>\n",
       "      <th>33</th>\n",
       "      <td>675.0</td>\n",
       "      <td>777414.0</td>\n",
       "      <td>11.800358</td>\n",
       "      <td>0</td>\n",
       "      <td>0</td>\n",
       "      <td>0</td>\n",
       "      <td>0</td>\n",
       "      <td>0</td>\n",
       "      <td>0</td>\n",
       "      <td>0</td>\n",
       "      <td>...</td>\n",
       "      <td>0</td>\n",
       "      <td>0</td>\n",
       "      <td>0</td>\n",
       "      <td>0</td>\n",
       "      <td>0</td>\n",
       "      <td>0</td>\n",
       "      <td>0</td>\n",
       "      <td>0</td>\n",
       "      <td>0</td>\n",
       "      <td>1</td>\n",
       "    </tr>\n",
       "    <tr>\n",
       "      <th>34</th>\n",
       "      <td>1204.0</td>\n",
       "      <td>929968.0</td>\n",
       "      <td>11.800358</td>\n",
       "      <td>0</td>\n",
       "      <td>0</td>\n",
       "      <td>0</td>\n",
       "      <td>0</td>\n",
       "      <td>0</td>\n",
       "      <td>0</td>\n",
       "      <td>0</td>\n",
       "      <td>...</td>\n",
       "      <td>0</td>\n",
       "      <td>0</td>\n",
       "      <td>0</td>\n",
       "      <td>0</td>\n",
       "      <td>0</td>\n",
       "      <td>0</td>\n",
       "      <td>0</td>\n",
       "      <td>0</td>\n",
       "      <td>0</td>\n",
       "      <td>1</td>\n",
       "    </tr>\n",
       "    <tr>\n",
       "      <th>35</th>\n",
       "      <td>688.0</td>\n",
       "      <td>532865.0</td>\n",
       "      <td>11.800358</td>\n",
       "      <td>0</td>\n",
       "      <td>0</td>\n",
       "      <td>0</td>\n",
       "      <td>0</td>\n",
       "      <td>0</td>\n",
       "      <td>0</td>\n",
       "      <td>0</td>\n",
       "      <td>...</td>\n",
       "      <td>0</td>\n",
       "      <td>0</td>\n",
       "      <td>0</td>\n",
       "      <td>0</td>\n",
       "      <td>0</td>\n",
       "      <td>0</td>\n",
       "      <td>0</td>\n",
       "      <td>0</td>\n",
       "      <td>0</td>\n",
       "      <td>1</td>\n",
       "    </tr>\n",
       "  </tbody>\n",
       "</table>\n",
       "<p>5 rows × 102 columns</p>\n",
       "</div>"
      ],
      "text/plain": [
       "    NumCompraVentas  TotalPoblación  PrecioVivienda  \\\n",
       "31           1220.0        723899.0       11.800358   \n",
       "32           1417.0       1259339.0       11.800358   \n",
       "33            675.0        777414.0       11.800358   \n",
       "34           1204.0        929968.0       11.800358   \n",
       "35            688.0        532865.0       11.800358   \n",
       "\n",
       "    Comunidades y Ciudades Autónomas_02 Aragón  \\\n",
       "31                                           0   \n",
       "32                                           0   \n",
       "33                                           0   \n",
       "34                                           0   \n",
       "35                                           0   \n",
       "\n",
       "    Comunidades y Ciudades Autónomas_03 Asturias, Principado de  \\\n",
       "31                                                  0             \n",
       "32                                                  0             \n",
       "33                                                  0             \n",
       "34                                                  0             \n",
       "35                                                  0             \n",
       "\n",
       "    Comunidades y Ciudades Autónomas_04 Balears, Illes  \\\n",
       "31                                                  0    \n",
       "32                                                  0    \n",
       "33                                                  0    \n",
       "34                                                  0    \n",
       "35                                                  0    \n",
       "\n",
       "    Comunidades y Ciudades Autónomas_05 Canarias  \\\n",
       "31                                             0   \n",
       "32                                             0   \n",
       "33                                             0   \n",
       "34                                             0   \n",
       "35                                             0   \n",
       "\n",
       "    Comunidades y Ciudades Autónomas_06 Cantabria  \\\n",
       "31                                              0   \n",
       "32                                              0   \n",
       "33                                              0   \n",
       "34                                              0   \n",
       "35                                              0   \n",
       "\n",
       "    Comunidades y Ciudades Autónomas_07 Castilla y León  \\\n",
       "31                                                  0     \n",
       "32                                                  0     \n",
       "33                                                  0     \n",
       "34                                                  0     \n",
       "35                                                  0     \n",
       "\n",
       "    Comunidades y Ciudades Autónomas_08 Castilla - La Mancha  ...  \\\n",
       "31                                                  0         ...   \n",
       "32                                                  0         ...   \n",
       "33                                                  0         ...   \n",
       "34                                                  0         ...   \n",
       "35                                                  0         ...   \n",
       "\n",
       "    Periodo_2017M07  Periodo_2018M01  Periodo_2018M07  Periodo_2019M01  \\\n",
       "31                0                0                0                0   \n",
       "32                0                0                0                0   \n",
       "33                0                0                0                0   \n",
       "34                0                0                0                0   \n",
       "35                0                0                0                0   \n",
       "\n",
       "    Periodo_2019M07  Periodo_2020M01  Periodo_2020M07  Periodo_2021M01  \\\n",
       "31                0                0                0                0   \n",
       "32                0                0                0                0   \n",
       "33                0                0                0                0   \n",
       "34                0                0                0                0   \n",
       "35                0                0                0                0   \n",
       "\n",
       "    Periodo_2021M07  Periodo_2022M01  \n",
       "31                0                1  \n",
       "32                0                1  \n",
       "33                0                1  \n",
       "34                0                1  \n",
       "35                0                1  \n",
       "\n",
       "[5 rows x 102 columns]"
      ]
     },
     "execution_count": 10,
     "metadata": {},
     "output_type": "execute_result"
    }
   ],
   "source": [
    "print(df.dtypes)\n",
    "print(df.shape)\n",
    "df.head()"
   ]
  },
  {
   "cell_type": "markdown",
   "id": "69c08be4-4f3e-4617-9a88-915af4359e1e",
   "metadata": {},
   "source": [
    "### Feature Scaling\n",
    "#El escalado de características utilizando MinMaxScaler esencialmente reduce el rango de tal manera que el rango está ahora entre 0 y n. Los algoritmos de aprendizaje automático funcionan mejor cuando las variables numéricas de entrada caen dentro de una escala similar. En este caso, estamos escalando entre 0 y 5."
   ]
  },
  {
   "cell_type": "code",
   "execution_count": 11,
   "id": "00050394-c55b-472d-ba29-74586c9c825e",
   "metadata": {},
   "outputs": [
    {
     "data": {
      "text/html": [
       "<div>\n",
       "<style scoped>\n",
       "    .dataframe tbody tr th:only-of-type {\n",
       "        vertical-align: middle;\n",
       "    }\n",
       "\n",
       "    .dataframe tbody tr th {\n",
       "        vertical-align: top;\n",
       "    }\n",
       "\n",
       "    .dataframe thead th {\n",
       "        text-align: right;\n",
       "    }\n",
       "</style>\n",
       "<table border=\"1\" class=\"dataframe\">\n",
       "  <thead>\n",
       "    <tr style=\"text-align: right;\">\n",
       "      <th></th>\n",
       "      <th>NumCompraVentas</th>\n",
       "      <th>TotalPoblación</th>\n",
       "      <th>PrecioVivienda</th>\n",
       "      <th>Comunidades y Ciudades Autónomas_02 Aragón</th>\n",
       "      <th>Comunidades y Ciudades Autónomas_03 Asturias, Principado de</th>\n",
       "      <th>Comunidades y Ciudades Autónomas_04 Balears, Illes</th>\n",
       "      <th>Comunidades y Ciudades Autónomas_05 Canarias</th>\n",
       "      <th>Comunidades y Ciudades Autónomas_06 Cantabria</th>\n",
       "      <th>Comunidades y Ciudades Autónomas_07 Castilla y León</th>\n",
       "      <th>Comunidades y Ciudades Autónomas_08 Castilla - La Mancha</th>\n",
       "      <th>...</th>\n",
       "      <th>Periodo_2017M07</th>\n",
       "      <th>Periodo_2018M01</th>\n",
       "      <th>Periodo_2018M07</th>\n",
       "      <th>Periodo_2019M01</th>\n",
       "      <th>Periodo_2019M07</th>\n",
       "      <th>Periodo_2020M01</th>\n",
       "      <th>Periodo_2020M07</th>\n",
       "      <th>Periodo_2021M01</th>\n",
       "      <th>Periodo_2021M07</th>\n",
       "      <th>Periodo_2022M01</th>\n",
       "    </tr>\n",
       "  </thead>\n",
       "  <tbody>\n",
       "    <tr>\n",
       "      <th>31</th>\n",
       "      <td>0.698900</td>\n",
       "      <td>0.488744</td>\n",
       "      <td>11.800358</td>\n",
       "      <td>0.0</td>\n",
       "      <td>0.0</td>\n",
       "      <td>0.0</td>\n",
       "      <td>0.0</td>\n",
       "      <td>0.0</td>\n",
       "      <td>0.0</td>\n",
       "      <td>0.0</td>\n",
       "      <td>...</td>\n",
       "      <td>0.0</td>\n",
       "      <td>0.0</td>\n",
       "      <td>0.0</td>\n",
       "      <td>0.0</td>\n",
       "      <td>0.0</td>\n",
       "      <td>0.0</td>\n",
       "      <td>0.0</td>\n",
       "      <td>0.0</td>\n",
       "      <td>0.0</td>\n",
       "      <td>5.0</td>\n",
       "    </tr>\n",
       "    <tr>\n",
       "      <th>32</th>\n",
       "      <td>0.811755</td>\n",
       "      <td>0.888317</td>\n",
       "      <td>11.800358</td>\n",
       "      <td>0.0</td>\n",
       "      <td>0.0</td>\n",
       "      <td>0.0</td>\n",
       "      <td>0.0</td>\n",
       "      <td>0.0</td>\n",
       "      <td>0.0</td>\n",
       "      <td>0.0</td>\n",
       "      <td>...</td>\n",
       "      <td>0.0</td>\n",
       "      <td>0.0</td>\n",
       "      <td>0.0</td>\n",
       "      <td>0.0</td>\n",
       "      <td>0.0</td>\n",
       "      <td>0.0</td>\n",
       "      <td>0.0</td>\n",
       "      <td>0.0</td>\n",
       "      <td>0.0</td>\n",
       "      <td>5.0</td>\n",
       "    </tr>\n",
       "    <tr>\n",
       "      <th>33</th>\n",
       "      <td>0.386687</td>\n",
       "      <td>0.528680</td>\n",
       "      <td>11.800358</td>\n",
       "      <td>0.0</td>\n",
       "      <td>0.0</td>\n",
       "      <td>0.0</td>\n",
       "      <td>0.0</td>\n",
       "      <td>0.0</td>\n",
       "      <td>0.0</td>\n",
       "      <td>0.0</td>\n",
       "      <td>...</td>\n",
       "      <td>0.0</td>\n",
       "      <td>0.0</td>\n",
       "      <td>0.0</td>\n",
       "      <td>0.0</td>\n",
       "      <td>0.0</td>\n",
       "      <td>0.0</td>\n",
       "      <td>0.0</td>\n",
       "      <td>0.0</td>\n",
       "      <td>0.0</td>\n",
       "      <td>5.0</td>\n",
       "    </tr>\n",
       "    <tr>\n",
       "      <th>34</th>\n",
       "      <td>0.689734</td>\n",
       "      <td>0.642523</td>\n",
       "      <td>11.800358</td>\n",
       "      <td>0.0</td>\n",
       "      <td>0.0</td>\n",
       "      <td>0.0</td>\n",
       "      <td>0.0</td>\n",
       "      <td>0.0</td>\n",
       "      <td>0.0</td>\n",
       "      <td>0.0</td>\n",
       "      <td>...</td>\n",
       "      <td>0.0</td>\n",
       "      <td>0.0</td>\n",
       "      <td>0.0</td>\n",
       "      <td>0.0</td>\n",
       "      <td>0.0</td>\n",
       "      <td>0.0</td>\n",
       "      <td>0.0</td>\n",
       "      <td>0.0</td>\n",
       "      <td>0.0</td>\n",
       "      <td>5.0</td>\n",
       "    </tr>\n",
       "    <tr>\n",
       "      <th>35</th>\n",
       "      <td>0.394134</td>\n",
       "      <td>0.346184</td>\n",
       "      <td>11.800358</td>\n",
       "      <td>0.0</td>\n",
       "      <td>0.0</td>\n",
       "      <td>0.0</td>\n",
       "      <td>0.0</td>\n",
       "      <td>0.0</td>\n",
       "      <td>0.0</td>\n",
       "      <td>0.0</td>\n",
       "      <td>...</td>\n",
       "      <td>0.0</td>\n",
       "      <td>0.0</td>\n",
       "      <td>0.0</td>\n",
       "      <td>0.0</td>\n",
       "      <td>0.0</td>\n",
       "      <td>0.0</td>\n",
       "      <td>0.0</td>\n",
       "      <td>0.0</td>\n",
       "      <td>0.0</td>\n",
       "      <td>5.0</td>\n",
       "    </tr>\n",
       "  </tbody>\n",
       "</table>\n",
       "<p>5 rows × 102 columns</p>\n",
       "</div>"
      ],
      "text/plain": [
       "    NumCompraVentas  TotalPoblación  PrecioVivienda  \\\n",
       "31         0.698900        0.488744       11.800358   \n",
       "32         0.811755        0.888317       11.800358   \n",
       "33         0.386687        0.528680       11.800358   \n",
       "34         0.689734        0.642523       11.800358   \n",
       "35         0.394134        0.346184       11.800358   \n",
       "\n",
       "    Comunidades y Ciudades Autónomas_02 Aragón  \\\n",
       "31                                         0.0   \n",
       "32                                         0.0   \n",
       "33                                         0.0   \n",
       "34                                         0.0   \n",
       "35                                         0.0   \n",
       "\n",
       "    Comunidades y Ciudades Autónomas_03 Asturias, Principado de  \\\n",
       "31                                                0.0             \n",
       "32                                                0.0             \n",
       "33                                                0.0             \n",
       "34                                                0.0             \n",
       "35                                                0.0             \n",
       "\n",
       "    Comunidades y Ciudades Autónomas_04 Balears, Illes  \\\n",
       "31                                                0.0    \n",
       "32                                                0.0    \n",
       "33                                                0.0    \n",
       "34                                                0.0    \n",
       "35                                                0.0    \n",
       "\n",
       "    Comunidades y Ciudades Autónomas_05 Canarias  \\\n",
       "31                                           0.0   \n",
       "32                                           0.0   \n",
       "33                                           0.0   \n",
       "34                                           0.0   \n",
       "35                                           0.0   \n",
       "\n",
       "    Comunidades y Ciudades Autónomas_06 Cantabria  \\\n",
       "31                                            0.0   \n",
       "32                                            0.0   \n",
       "33                                            0.0   \n",
       "34                                            0.0   \n",
       "35                                            0.0   \n",
       "\n",
       "    Comunidades y Ciudades Autónomas_07 Castilla y León  \\\n",
       "31                                                0.0     \n",
       "32                                                0.0     \n",
       "33                                                0.0     \n",
       "34                                                0.0     \n",
       "35                                                0.0     \n",
       "\n",
       "    Comunidades y Ciudades Autónomas_08 Castilla - La Mancha  ...  \\\n",
       "31                                                0.0         ...   \n",
       "32                                                0.0         ...   \n",
       "33                                                0.0         ...   \n",
       "34                                                0.0         ...   \n",
       "35                                                0.0         ...   \n",
       "\n",
       "    Periodo_2017M07  Periodo_2018M01  Periodo_2018M07  Periodo_2019M01  \\\n",
       "31              0.0              0.0              0.0              0.0   \n",
       "32              0.0              0.0              0.0              0.0   \n",
       "33              0.0              0.0              0.0              0.0   \n",
       "34              0.0              0.0              0.0              0.0   \n",
       "35              0.0              0.0              0.0              0.0   \n",
       "\n",
       "    Periodo_2019M07  Periodo_2020M01  Periodo_2020M07  Periodo_2021M01  \\\n",
       "31              0.0              0.0              0.0              0.0   \n",
       "32              0.0              0.0              0.0              0.0   \n",
       "33              0.0              0.0              0.0              0.0   \n",
       "34              0.0              0.0              0.0              0.0   \n",
       "35              0.0              0.0              0.0              0.0   \n",
       "\n",
       "    Periodo_2021M07  Periodo_2022M01  \n",
       "31              0.0              5.0  \n",
       "32              0.0              5.0  \n",
       "33              0.0              5.0  \n",
       "34              0.0              5.0  \n",
       "35              0.0              5.0  \n",
       "\n",
       "[5 rows x 102 columns]"
      ]
     },
     "execution_count": 11,
     "metadata": {},
     "output_type": "execute_result"
    }
   ],
   "source": [
    "# import MinMaxScaler\n",
    "from sklearn.preprocessing import MinMaxScaler\n",
    "scaler = MinMaxScaler(feature_range=(0, 5))\n",
    "df_col = list(df.columns)\n",
    "df_col.remove('PrecioVivienda')\n",
    "for col in df_col:\n",
    "    df[col] = df[col].astype(float)\n",
    "    df[[col]] = scaler.fit_transform(df[[col]])\n",
    "df['PrecioVivienda'] = pd.to_numeric(df['PrecioVivienda'], downcast='float')\n",
    "df.head()"
   ]
  },
  {
   "cell_type": "code",
   "execution_count": 12,
   "id": "4088f4c9-fb83-4e5b-9689-52bead3418b2",
   "metadata": {},
   "outputs": [
    {
     "name": "stdout",
     "output_type": "stream",
     "text": [
      "NumCompraVentas                                                float64\n",
      "TotalPoblación                                                 float64\n",
      "PrecioVivienda                                                 float32\n",
      "Comunidades y Ciudades Autónomas_02 Aragón                     float64\n",
      "Comunidades y Ciudades Autónomas_03 Asturias, Principado de    float64\n",
      "                                                                ...   \n",
      "Periodo_2020M01                                                float64\n",
      "Periodo_2020M07                                                float64\n",
      "Periodo_2021M01                                                float64\n",
      "Periodo_2021M07                                                float64\n",
      "Periodo_2022M01                                                float64\n",
      "Length: 102, dtype: object\n",
      "Size of Full Encoded Dataset: (1612, 102)\n"
     ]
    }
   ],
   "source": [
    "print(df.dtypes)\n",
    "print('Size of Full Encoded Dataset: {}'. format(df.shape))"
   ]
  },
  {
   "cell_type": "code",
   "execution_count": 13,
   "id": "f4a02c5d-bbbc-4001-a542-3a806fca8fe9",
   "metadata": {},
   "outputs": [],
   "source": [
    "### Splitting data into training and testing sets"
   ]
  },
  {
   "cell_type": "code",
   "execution_count": 14,
   "id": "b35043eb-db61-4380-a5e4-ba8539ea3549",
   "metadata": {},
   "outputs": [],
   "source": [
    "#Antes de implementar o aplicar cualquier algoritmo de aprendizaje automático, debemos desacoplar los conjuntos de datos de entrenamiento y de prueba de nuestro marco de datos principal."
   ]
  },
  {
   "cell_type": "code",
   "execution_count": 15,
   "id": "b3971b67-f89c-49f6-a794-1445abc79ab8",
   "metadata": {},
   "outputs": [],
   "source": [
    "# assign the target to a new dataframe and convert it to a numerical feature\n",
    "target = df['PrecioVivienda'].copy()"
   ]
  },
  {
   "cell_type": "code",
   "execution_count": 16,
   "id": "2676c3eb-e8e5-466c-9b18-162e0524cdc1",
   "metadata": {},
   "outputs": [
    {
     "data": {
      "text/plain": [
       "pandas.core.series.Series"
      ]
     },
     "execution_count": 16,
     "metadata": {},
     "output_type": "execute_result"
    }
   ],
   "source": [
    "type(target)"
   ]
  },
  {
   "cell_type": "code",
   "execution_count": 17,
   "id": "88c10428-43e3-405c-a979-051a0120df78",
   "metadata": {},
   "outputs": [
    {
     "name": "stdout",
     "output_type": "stream",
     "text": [
      "Size of Full dataset is: (1612, 101)\n"
     ]
    }
   ],
   "source": [
    "# let's remove the target feature and redundant features from the dataset\n",
    "df.drop(['PrecioVivienda'], axis=1, inplace=True)\n",
    "print('Size of Full dataset is: {}'.format(df.shape))"
   ]
  },
  {
   "cell_type": "code",
   "execution_count": 18,
   "id": "e60b0afe-73f0-41ac-a689-af95eb026fd1",
   "metadata": {},
   "outputs": [
    {
     "name": "stdout",
     "output_type": "stream",
     "text": [
      "Number transactions X_train dataset:  (1209, 101)\n",
      "Number transactions y_train dataset:  (1209,)\n",
      "Number transactions X_test dataset:  (403, 101)\n",
      "Number transactions y_test dataset:  (403,)\n"
     ]
    }
   ],
   "source": [
    "from sklearn.model_selection import train_test_split\n",
    "#Splitting the data\n",
    "X_train, X_test, y_train, y_test = train_test_split(df,\n",
    "                                                    target,\n",
    "                                                    test_size=0.25,\n",
    "                                                    random_state=7)\n",
    "print(\"Number transactions X_train dataset: \", X_train.shape)\n",
    "print(\"Number transactions y_train dataset: \", y_train.shape)\n",
    "print(\"Number transactions X_test dataset: \", X_test.shape)\n",
    "print(\"Number transactions y_test dataset: \", y_test.shape)"
   ]
  },
  {
   "cell_type": "markdown",
   "id": "9989e6e9-77b4-4a5f-9437-5a2e49f17e8f",
   "metadata": {},
   "source": [
    "# REGRESION LINEAL"
   ]
  },
  {
   "cell_type": "code",
   "execution_count": 19,
   "id": "ac736099-b79e-4f65-b5b7-970df95e797f",
   "metadata": {},
   "outputs": [
    {
     "data": {
      "text/plain": [
       "LinearRegression()"
      ]
     },
     "execution_count": 19,
     "metadata": {},
     "output_type": "execute_result"
    }
   ],
   "source": [
    "from sklearn.linear_model import LinearRegression\n",
    "#Model training\n",
    "modelLinearRegression = LinearRegression()\n",
    "modelLinearRegression.fit(X_train, y_train)"
   ]
  },
  {
   "cell_type": "code",
   "execution_count": 20,
   "id": "df0b10c6-144d-4725-b583-9888261a84bc",
   "metadata": {},
   "outputs": [],
   "source": [
    "#Prediction of model\n",
    "y_pred_lr = modelLinearRegression.predict(X_test)"
   ]
  },
  {
   "cell_type": "code",
   "execution_count": 21,
   "id": "72bd364f-9480-4009-8c06-cce15f68cf85",
   "metadata": {},
   "outputs": [],
   "source": [
    "#MODEL EVALUATION"
   ]
  },
  {
   "cell_type": "code",
   "execution_count": 22,
   "id": "e5d38385-2295-4c47-b643-1722adac2ad4",
   "metadata": {},
   "outputs": [],
   "source": [
    "from sklearn import metrics\n",
    "MAE= metrics.mean_absolute_error(y_test, y_pred_lr)"
   ]
  },
  {
   "cell_type": "code",
   "execution_count": 23,
   "id": "a49f12a2-fe23-48d0-877e-5c3434519fc4",
   "metadata": {},
   "outputs": [],
   "source": [
    "MSE= metrics.mean_squared_error(y_test, y_pred_lr)"
   ]
  },
  {
   "cell_type": "code",
   "execution_count": 24,
   "id": "cd94f2e5-e0b5-42cf-9a50-b2d49e021516",
   "metadata": {},
   "outputs": [],
   "source": [
    "import numpy as np\n",
    "RMSE= np.sqrt(MSE)"
   ]
  },
  {
   "cell_type": "code",
   "execution_count": 25,
   "id": "0250ae5a-a798-4c1c-a59b-f7a93b5dfaf6",
   "metadata": {},
   "outputs": [
    {
     "name": "stdout",
     "output_type": "stream",
     "text": [
      "0.03863639926200469 0.002543274226026331 0.05043088563595063\n"
     ]
    }
   ],
   "source": [
    "print (MAE, MSE, RMSE)"
   ]
  },
  {
   "cell_type": "code",
   "execution_count": 26,
   "id": "f7020da7-bbf3-49dd-937b-5bcced98dc10",
   "metadata": {},
   "outputs": [
    {
     "name": "stdout",
     "output_type": "stream",
     "text": [
      "0.886492492052116\n"
     ]
    }
   ],
   "source": [
    "#y_pred = model.predict(X_test)\n",
    "R_squared_value = modelLinearRegression.score(X_test, y_test)\n",
    "\n",
    "print(R_squared_value)"
   ]
  },
  {
   "cell_type": "markdown",
   "id": "06f12818-c596-4962-906e-bfdba71234fa",
   "metadata": {},
   "source": [
    "# RANDOM FOREST"
   ]
  },
  {
   "cell_type": "code",
   "execution_count": 27,
   "id": "969cff78-c675-4276-b18a-f656a1c8bcb0",
   "metadata": {},
   "outputs": [
    {
     "data": {
      "text/plain": [
       "RandomForestRegressor(bootstrap=False, max_features=30, n_estimators=300,\n",
       "                      random_state=42)"
      ]
     },
     "execution_count": 27,
     "metadata": {},
     "output_type": "execute_result"
    }
   ],
   "source": [
    "from sklearn.ensemble import RandomForestRegressor\n",
    "\n",
    "forest_reg = RandomForestRegressor(bootstrap=False, max_features=30, n_estimators=300,\n",
    "                      random_state=42)\n",
    "#Antes de la mejora\n",
    "#forest_reg = RandomForestRegressor(max_features=10, n_estimators=60, random_state=42)\n",
    "\n",
    "forest_reg.fit(X_train, y_train)"
   ]
  },
  {
   "cell_type": "code",
   "execution_count": 28,
   "id": "aca9145b-d41c-4190-9ab9-748f18e6d000",
   "metadata": {},
   "outputs": [],
   "source": [
    "y_pred_rf = forest_reg.predict(X_test)"
   ]
  },
  {
   "cell_type": "code",
   "execution_count": 29,
   "id": "b9271560-0940-453b-ba7f-7f625f8c587b",
   "metadata": {},
   "outputs": [],
   "source": [
    "#MODEL EVALUATION"
   ]
  },
  {
   "cell_type": "code",
   "execution_count": 30,
   "id": "32fde0d9-584f-4c28-b852-a312f78396d9",
   "metadata": {},
   "outputs": [],
   "source": [
    "MAE_RF= metrics.mean_absolute_error(y_test, y_pred_rf)"
   ]
  },
  {
   "cell_type": "code",
   "execution_count": 31,
   "id": "92459368-b7ef-4695-a1d3-77dce2c4b4c5",
   "metadata": {},
   "outputs": [],
   "source": [
    "MSE_RF= metrics.mean_squared_error(y_test, y_pred_rf)"
   ]
  },
  {
   "cell_type": "code",
   "execution_count": 32,
   "id": "d58ebc8c-2780-49e8-a25f-adaa3a3c7e62",
   "metadata": {},
   "outputs": [],
   "source": [
    "RMSE_RF= np.sqrt(MSE_RF)"
   ]
  },
  {
   "cell_type": "code",
   "execution_count": 33,
   "id": "e6aef748-d0cb-4d87-b279-8e717b6f7979",
   "metadata": {},
   "outputs": [
    {
     "name": "stdout",
     "output_type": "stream",
     "text": [
      "0.02970551483684376 0.0024011377070017915 0.04900140515334016\n"
     ]
    }
   ],
   "source": [
    "print (MAE_RF, MSE_RF, RMSE_RF)"
   ]
  },
  {
   "cell_type": "code",
   "execution_count": 34,
   "id": "153429e3-02b4-4741-9093-f750ca01e031",
   "metadata": {},
   "outputs": [
    {
     "name": "stdout",
     "output_type": "stream",
     "text": [
      "0.8928361108006415\n"
     ]
    }
   ],
   "source": [
    "R_squared_value = forest_reg.score(X_test, y_test)\n",
    "\n",
    "print(R_squared_value)"
   ]
  },
  {
   "cell_type": "code",
   "execution_count": 35,
   "id": "f013a120-7bfc-4c95-8506-9e6c115d7cae",
   "metadata": {},
   "outputs": [
    {
     "data": {
      "text/plain": [
       "GridSearchCV(cv=5, estimator=RandomForestRegressor(random_state=42),\n",
       "             param_grid=[{'max_features': ['auto', 'sqrt', 'log2', 1, 2, 3, 4,\n",
       "                                           5, 10, 20, 30, 35],\n",
       "                          'n_estimators': [3, 10, 30, 60, 90, 150, 200, 250,\n",
       "                                           300, 350, 400]}],\n",
       "             return_train_score=True, scoring='neg_mean_squared_error')"
      ]
     },
     "execution_count": 35,
     "metadata": {},
     "output_type": "execute_result"
    }
   ],
   "source": [
    "#Fine tune for your model -> BUSCAMOS MEJORES PARÁMETROS\n",
    "from sklearn.model_selection import GridSearchCV\n",
    "\n",
    "param_grid = [\n",
    "    {'n_estimators': [3, 10, 30, 60, 90, 150, 200, 250, 300, 350, 400], 'max_features': ['auto', 'sqrt', 'log2', 1, 2, 3, 4, 5, 10, 20, 30, 35]},\n",
    "    ]\n",
    "\n",
    "forest_reg = RandomForestRegressor(random_state=42)\n",
    "\n",
    "grid_search = GridSearchCV(forest_reg, param_grid, cv=5,\n",
    "                           scoring='neg_mean_squared_error', return_train_score=True)\n",
    "grid_search.fit(X_train, y_train)"
   ]
  },
  {
   "cell_type": "code",
   "execution_count": 36,
   "id": "28aa0414-1f90-4f80-9af1-7adbafe8118d",
   "metadata": {},
   "outputs": [
    {
     "data": {
      "text/plain": [
       "{'max_features': 30, 'n_estimators': 300}"
      ]
     },
     "execution_count": 36,
     "metadata": {},
     "output_type": "execute_result"
    }
   ],
   "source": [
    "grid_search.best_params_"
   ]
  },
  {
   "cell_type": "code",
   "execution_count": 37,
   "id": "50480d93-2cd1-41d6-bd70-18e930a6e113",
   "metadata": {},
   "outputs": [
    {
     "data": {
      "text/plain": [
       "RandomForestRegressor(max_features=30, n_estimators=300, random_state=42)"
      ]
     },
     "execution_count": 37,
     "metadata": {},
     "output_type": "execute_result"
    }
   ],
   "source": [
    "grid_search.best_estimator_"
   ]
  },
  {
   "cell_type": "markdown",
   "id": "009308a8-2d6f-46c4-9434-d0629c0caa52",
   "metadata": {},
   "source": [
    "# SVR"
   ]
  },
  {
   "cell_type": "code",
   "execution_count": 38,
   "id": "8d4be404-10d7-4f85-bf39-88075fe16a87",
   "metadata": {},
   "outputs": [
    {
     "data": {
      "text/plain": [
       "SVR(kernel='linear')"
      ]
     },
     "execution_count": 38,
     "metadata": {},
     "output_type": "execute_result"
    }
   ],
   "source": [
    "from sklearn.svm import SVR\n",
    "svr_regressor = SVR(kernel='linear')\n",
    "svr_regressor.fit(X_train,y_train)"
   ]
  },
  {
   "cell_type": "code",
   "execution_count": 39,
   "id": "ec175b9d-3e01-4dca-bf93-472873341769",
   "metadata": {},
   "outputs": [],
   "source": [
    "y_pred_svr = svr_regressor.predict(X_test)"
   ]
  },
  {
   "cell_type": "code",
   "execution_count": 40,
   "id": "3f6f14fa-6897-440b-a7a7-36b7d78103ea",
   "metadata": {},
   "outputs": [],
   "source": [
    "#MODEL EVALUATION"
   ]
  },
  {
   "cell_type": "code",
   "execution_count": 41,
   "id": "3e9f1055-5753-4452-b263-bb961737bba4",
   "metadata": {},
   "outputs": [],
   "source": [
    "MAE_SVR= metrics.mean_absolute_error(y_test, y_pred_svr)"
   ]
  },
  {
   "cell_type": "code",
   "execution_count": 42,
   "id": "906889cd-962b-4c5a-b37a-ec69ef091237",
   "metadata": {},
   "outputs": [],
   "source": [
    "MSE_SVR= metrics.mean_squared_error(y_test, y_pred_svr)"
   ]
  },
  {
   "cell_type": "code",
   "execution_count": 43,
   "id": "708504f8-4dc3-4b34-8491-861924278647",
   "metadata": {},
   "outputs": [],
   "source": [
    "RMSE_SVR= np.sqrt(MSE_SVR)"
   ]
  },
  {
   "cell_type": "code",
   "execution_count": 44,
   "id": "239a47f0-0802-4ef5-84db-9ed3410df54e",
   "metadata": {},
   "outputs": [
    {
     "name": "stdout",
     "output_type": "stream",
     "text": [
      "0.049977196614524946 0.0037728902385113713 0.06142385724220982\n"
     ]
    }
   ],
   "source": [
    "print (MAE_SVR, MSE_SVR, RMSE_SVR)"
   ]
  },
  {
   "cell_type": "code",
   "execution_count": 45,
   "id": "aade5bae-e01c-439e-8e5c-1e7ac6115a48",
   "metadata": {},
   "outputs": [
    {
     "name": "stdout",
     "output_type": "stream",
     "text": [
      "0.8316141592786739\n"
     ]
    }
   ],
   "source": [
    "R_squared_value = svr_regressor.score(X_test, y_test)\n",
    "\n",
    "print(R_squared_value)"
   ]
  },
  {
   "cell_type": "markdown",
   "id": "9a974a02-9158-4e5b-8e23-54f9ff876213",
   "metadata": {},
   "source": [
    "# SGD regressor"
   ]
  },
  {
   "cell_type": "code",
   "execution_count": 46,
   "id": "baa26af5-47f8-4d19-b20f-73f0b73ede12",
   "metadata": {},
   "outputs": [
    {
     "data": {
      "text/plain": [
       "SGDRegressor()"
      ]
     },
     "execution_count": 46,
     "metadata": {},
     "output_type": "execute_result"
    }
   ],
   "source": [
    "from sklearn.linear_model import SGDRegressor\n",
    "\n",
    "sgdr = SGDRegressor()\n",
    "sgdr.fit(X_train,y_train)"
   ]
  },
  {
   "cell_type": "code",
   "execution_count": 47,
   "id": "3ec0ea67-6a06-463d-b830-cd42d4279ab1",
   "metadata": {},
   "outputs": [],
   "source": [
    "y_pred_sgdr = sgdr.predict(X_test)"
   ]
  },
  {
   "cell_type": "code",
   "execution_count": 48,
   "id": "f138873d-333d-4fb1-bb50-fbfb2afbbea7",
   "metadata": {},
   "outputs": [],
   "source": [
    "#MODEL EVALUATION"
   ]
  },
  {
   "cell_type": "code",
   "execution_count": 49,
   "id": "2e43028e-2b87-4a1e-b496-cf67d70ff9ca",
   "metadata": {},
   "outputs": [],
   "source": [
    "MAE_SGDR= metrics.mean_absolute_error(y_test, y_pred_sgdr)"
   ]
  },
  {
   "cell_type": "code",
   "execution_count": 50,
   "id": "70671d5d-195f-434b-9614-030dfd5540bf",
   "metadata": {},
   "outputs": [],
   "source": [
    "MSE_SGDR= metrics.mean_squared_error(y_test, y_pred_sgdr)"
   ]
  },
  {
   "cell_type": "code",
   "execution_count": 51,
   "id": "85f557b4-4c6e-4eca-9db2-eb71bd24eba7",
   "metadata": {},
   "outputs": [],
   "source": [
    "RMSE_SGDR= np.sqrt(MSE_SGDR)"
   ]
  },
  {
   "cell_type": "code",
   "execution_count": 52,
   "id": "6456a560-64a5-4945-9e5e-66436b792d89",
   "metadata": {},
   "outputs": [
    {
     "name": "stdout",
     "output_type": "stream",
     "text": [
      "0.14342384505741473 0.08369626197104608 0.28930306249856064\n"
     ]
    }
   ],
   "source": [
    "print (MAE_SGDR, MSE_SGDR, RMSE_SGDR)"
   ]
  },
  {
   "cell_type": "code",
   "execution_count": 53,
   "id": "43d45dc1-830d-46f1-84e8-d189ce56b2c4",
   "metadata": {},
   "outputs": [
    {
     "name": "stdout",
     "output_type": "stream",
     "text": [
      "-2.7354029792257024\n"
     ]
    }
   ],
   "source": [
    "R_squared_value = sgdr.score(X_test, y_test)\n",
    "\n",
    "print(R_squared_value)"
   ]
  },
  {
   "cell_type": "markdown",
   "id": "f9e58f32-ee1d-4a6d-891a-4989d40d9f70",
   "metadata": {},
   "source": [
    "# XGBoost regressor"
   ]
  },
  {
   "cell_type": "code",
   "execution_count": 54,
   "id": "a2521e69-d63d-47a1-b160-3cf5172a56c1",
   "metadata": {},
   "outputs": [
    {
     "name": "stdout",
     "output_type": "stream",
     "text": [
      "[18:16:13] WARNING: /Users/runner/work/xgboost/xgboost/python-package/build/temp.macosx-10.9-x86_64-cpython-37/xgboost/src/objective/regression_obj.cu:203: reg:linear is now deprecated in favor of reg:squarederror.\n"
     ]
    },
    {
     "data": {
      "text/plain": [
       "XGBRegressor(base_score=0.5, booster='gbtree', callbacks=None,\n",
       "             colsample_bylevel=1, colsample_bynode=1, colsample_bytree=1,\n",
       "             early_stopping_rounds=None, enable_categorical=False,\n",
       "             eval_metric=None, gamma=0, gpu_id=-1, grow_policy='depthwise',\n",
       "             importance_type=None, interaction_constraints='',\n",
       "             learning_rate=0.300000012, max_bin=256, max_cat_to_onehot=4,\n",
       "             max_delta_step=0, max_depth=6, max_leaves=0, min_child_weight=1,\n",
       "             missing=nan, monotone_constraints='()', n_estimators=100, n_jobs=0,\n",
       "             num_parallel_tree=1, objective='reg:linear', predictor='auto',\n",
       "             random_state=42, reg_alpha=0, ...)"
      ]
     },
     "execution_count": 54,
     "metadata": {},
     "output_type": "execute_result"
    }
   ],
   "source": [
    "import xgboost as xgb\n",
    "\n",
    "xgb_model = xgb.XGBRegressor(objective=\"reg:linear\", random_state=42)\n",
    "xgb_model.fit(X_train, y_train)"
   ]
  },
  {
   "cell_type": "code",
   "execution_count": 55,
   "id": "810cab68-03f5-474e-af58-5743e11517ed",
   "metadata": {},
   "outputs": [],
   "source": [
    "y_pred_xgb = xgb_model.predict(X_test)"
   ]
  },
  {
   "cell_type": "code",
   "execution_count": 56,
   "id": "c5c78d55-a496-4ae0-9742-de4d559712c3",
   "metadata": {},
   "outputs": [],
   "source": [
    "#MODEL EVALUATION"
   ]
  },
  {
   "cell_type": "code",
   "execution_count": 57,
   "id": "100da186-1d86-4362-b3e1-7830c9651c37",
   "metadata": {},
   "outputs": [],
   "source": [
    "MAE_xgb= metrics.mean_absolute_error(y_test, y_pred_xgb)"
   ]
  },
  {
   "cell_type": "code",
   "execution_count": 58,
   "id": "1ed0b0c2-22e9-4388-9ed5-985394ffdf48",
   "metadata": {},
   "outputs": [],
   "source": [
    "MSE_xgb= metrics.mean_squared_error(y_test, y_pred_xgb)"
   ]
  },
  {
   "cell_type": "code",
   "execution_count": 59,
   "id": "6bfbd1c7-70ea-4247-be65-3ed02e99cd25",
   "metadata": {},
   "outputs": [],
   "source": [
    "RMSE_xgb= np.sqrt(MSE_xgb)"
   ]
  },
  {
   "cell_type": "code",
   "execution_count": 60,
   "id": "286b8529-00a5-4cc6-b6b7-f9d2f8dcc7d7",
   "metadata": {},
   "outputs": [
    {
     "name": "stdout",
     "output_type": "stream",
     "text": [
      "0.028959684 0.0019375305 0.04401739\n"
     ]
    }
   ],
   "source": [
    "print (MAE_xgb, MSE_xgb, RMSE_xgb)"
   ]
  },
  {
   "cell_type": "code",
   "execution_count": 61,
   "id": "9349a497-a6fa-474b-adaf-8228b086dad2",
   "metadata": {},
   "outputs": [
    {
     "name": "stdout",
     "output_type": "stream",
     "text": [
      "0.9135271209014462\n"
     ]
    }
   ],
   "source": [
    "R_squared_value = xgb_model.score(X_test, y_test)\n",
    "\n",
    "print(R_squared_value)"
   ]
  },
  {
   "cell_type": "code",
   "execution_count": null,
   "id": "e4ccfc15-5d94-411d-85b5-dda2896f38ba",
   "metadata": {},
   "outputs": [],
   "source": []
  }
 ],
 "metadata": {
  "kernelspec": {
   "display_name": "Python 3 (ipykernel)",
   "language": "python",
   "name": "python3"
  },
  "language_info": {
   "codemirror_mode": {
    "name": "ipython",
    "version": 3
   },
   "file_extension": ".py",
   "mimetype": "text/x-python",
   "name": "python",
   "nbconvert_exporter": "python",
   "pygments_lexer": "ipython3",
   "version": "3.9.12"
  }
 },
 "nbformat": 4,
 "nbformat_minor": 5
}
